{
 "cells": [
  {
   "cell_type": "markdown",
   "metadata": {},
   "source": [
    "# Problem Statement\n",
    "The objective of this task is to detect hate speech in tweets. For the sake of simplicity, we say a tweet contains hate speech if it has a racist or sexist sentiment associated with it. So, the task is to classify racist or sexist tweets from other tweets.\n",
    "\n",
    "**Goal: predict the labels on the test dataset, where label '1' denotes the tweet is racist/sexist and label '0' denotes the tweet is not racist/sexist** "
   ]
  },
  {
   "cell_type": "markdown",
   "metadata": {},
   "source": [
    "### Reference resources: \n",
    "I made reference to the following contents found on the internet, they're super helpful to me to complete this final project and I truly appreciate all those author/people for all helpful instruction and well-written topic \n",
    "\n",
    "#### https://www.analyticsvidhya.com/blog/2018/07/hands-on-sentiment-analysis-dataset-python/\n",
    "#### https://github.com/makcedward/nlp/blob/master/sample/nlp-bag_of_words.ipynb\n",
    "#### https://towardsdatascience.com/another-twitter-sentiment-analysis-bb5b01ebad90\n",
    "#### https://towardsdatascience.com/sentiment-analysis-with-text-mining-13dd2b33de27\n",
    "#### https://medium.com/vickdata/detecting-hate-speech-in-tweets-natural-language-processing-in-python-for-beginners-4e591952223"
   ]
  },
  {
   "cell_type": "markdown",
   "metadata": {},
   "source": [
    "## 1/ Import libraries & take overview about dataset"
   ]
  },
  {
   "cell_type": "markdown",
   "metadata": {},
   "source": [
    "### 1.1 import libraries and take a look at dataset"
   ]
  },
  {
   "cell_type": "code",
   "execution_count": 39,
   "metadata": {},
   "outputs": [],
   "source": [
    "import numpy as np\n",
    "import pandas as pd\n",
    "import re\n",
    "import matplotlib.pyplot as plt\n",
    "import seaborn as sns\n",
    "import string\n",
    "import nltk\n",
    "from collections import Counter\n",
    "import warnings \n",
    "warnings.filterwarnings(\"ignore\", category=DeprecationWarning)\n",
    "sns.set_style(\"whitegrid\")\n",
    "%matplotlib inline"
   ]
  },
  {
   "cell_type": "code",
   "execution_count": 40,
   "metadata": {},
   "outputs": [],
   "source": [
    "tweets_train = pd.read_csv('./data/train_E6oV3lV.csv', encoding='latin-1')\n",
    "tweets_test = pd.read_csv('./data/test_tweets_anuFYb8.csv', encoding='latin-1')"
   ]
  },
  {
   "cell_type": "code",
   "execution_count": 41,
   "metadata": {},
   "outputs": [
    {
     "data": {
      "text/html": [
       "<div>\n",
       "<style scoped>\n",
       "    .dataframe tbody tr th:only-of-type {\n",
       "        vertical-align: middle;\n",
       "    }\n",
       "\n",
       "    .dataframe tbody tr th {\n",
       "        vertical-align: top;\n",
       "    }\n",
       "\n",
       "    .dataframe thead th {\n",
       "        text-align: right;\n",
       "    }\n",
       "</style>\n",
       "<table border=\"1\" class=\"dataframe\">\n",
       "  <thead>\n",
       "    <tr style=\"text-align: right;\">\n",
       "      <th></th>\n",
       "      <th>id</th>\n",
       "      <th>label</th>\n",
       "      <th>tweet</th>\n",
       "    </tr>\n",
       "  </thead>\n",
       "  <tbody>\n",
       "    <tr>\n",
       "      <th>0</th>\n",
       "      <td>1</td>\n",
       "      <td>0</td>\n",
       "      <td>@user when a father is dysfunctional and is s...</td>\n",
       "    </tr>\n",
       "    <tr>\n",
       "      <th>1</th>\n",
       "      <td>2</td>\n",
       "      <td>0</td>\n",
       "      <td>@user @user thanks for #lyft credit i can't us...</td>\n",
       "    </tr>\n",
       "    <tr>\n",
       "      <th>2</th>\n",
       "      <td>3</td>\n",
       "      <td>0</td>\n",
       "      <td>bihday your majesty</td>\n",
       "    </tr>\n",
       "    <tr>\n",
       "      <th>3</th>\n",
       "      <td>4</td>\n",
       "      <td>0</td>\n",
       "      <td>#model   i love u take with u all the time in ...</td>\n",
       "    </tr>\n",
       "    <tr>\n",
       "      <th>4</th>\n",
       "      <td>5</td>\n",
       "      <td>0</td>\n",
       "      <td>factsguide: society now    #motivation</td>\n",
       "    </tr>\n",
       "  </tbody>\n",
       "</table>\n",
       "</div>"
      ],
      "text/plain": [
       "   id  label                                              tweet\n",
       "0   1      0   @user when a father is dysfunctional and is s...\n",
       "1   2      0  @user @user thanks for #lyft credit i can't us...\n",
       "2   3      0                                bihday your majesty\n",
       "3   4      0  #model   i love u take with u all the time in ...\n",
       "4   5      0             factsguide: society now    #motivation"
      ]
     },
     "execution_count": 41,
     "metadata": {},
     "output_type": "execute_result"
    }
   ],
   "source": [
    "tweets_train.head()"
   ]
  },
  {
   "cell_type": "code",
   "execution_count": 91,
   "metadata": {},
   "outputs": [
    {
     "data": {
      "text/plain": [
       "0    29720\n",
       "1     2242\n",
       "Name: label, dtype: int64"
      ]
     },
     "execution_count": 91,
     "metadata": {},
     "output_type": "execute_result"
    }
   ],
   "source": [
    "tweets_train[\"label\"].value_counts()"
   ]
  },
  {
   "cell_type": "markdown",
   "metadata": {},
   "source": [
    "we have 2,242 (~7%) tweets labeled as racist or sexist, and 29,720 (~93%) tweets labeled as non racist/sexist"
   ]
  },
  {
   "cell_type": "code",
   "execution_count": 42,
   "metadata": {},
   "outputs": [
    {
     "data": {
      "text/html": [
       "<div>\n",
       "<style scoped>\n",
       "    .dataframe tbody tr th:only-of-type {\n",
       "        vertical-align: middle;\n",
       "    }\n",
       "\n",
       "    .dataframe tbody tr th {\n",
       "        vertical-align: top;\n",
       "    }\n",
       "\n",
       "    .dataframe thead th {\n",
       "        text-align: right;\n",
       "    }\n",
       "</style>\n",
       "<table border=\"1\" class=\"dataframe\">\n",
       "  <thead>\n",
       "    <tr style=\"text-align: right;\">\n",
       "      <th></th>\n",
       "      <th>id</th>\n",
       "      <th>tweet</th>\n",
       "    </tr>\n",
       "  </thead>\n",
       "  <tbody>\n",
       "    <tr>\n",
       "      <th>0</th>\n",
       "      <td>31963</td>\n",
       "      <td>#studiolife #aislife #requires #passion #dedic...</td>\n",
       "    </tr>\n",
       "    <tr>\n",
       "      <th>1</th>\n",
       "      <td>31964</td>\n",
       "      <td>@user #white #supremacists want everyone to s...</td>\n",
       "    </tr>\n",
       "    <tr>\n",
       "      <th>2</th>\n",
       "      <td>31965</td>\n",
       "      <td>safe ways to heal your #acne!!    #altwaystohe...</td>\n",
       "    </tr>\n",
       "    <tr>\n",
       "      <th>3</th>\n",
       "      <td>31966</td>\n",
       "      <td>is the hp and the cursed child book up for res...</td>\n",
       "    </tr>\n",
       "    <tr>\n",
       "      <th>4</th>\n",
       "      <td>31967</td>\n",
       "      <td>3rd #bihday to my amazing, hilarious #nephew...</td>\n",
       "    </tr>\n",
       "  </tbody>\n",
       "</table>\n",
       "</div>"
      ],
      "text/plain": [
       "      id                                              tweet\n",
       "0  31963  #studiolife #aislife #requires #passion #dedic...\n",
       "1  31964   @user #white #supremacists want everyone to s...\n",
       "2  31965  safe ways to heal your #acne!!    #altwaystohe...\n",
       "3  31966  is the hp and the cursed child book up for res...\n",
       "4  31967    3rd #bihday to my amazing, hilarious #nephew..."
      ]
     },
     "execution_count": 42,
     "metadata": {},
     "output_type": "execute_result"
    }
   ],
   "source": [
    "tweets_test.head()"
   ]
  },
  {
   "cell_type": "code",
   "execution_count": 43,
   "metadata": {},
   "outputs": [
    {
     "data": {
      "text/plain": [
       "((31962, 3), (17197, 2))"
      ]
     },
     "execution_count": 43,
     "metadata": {},
     "output_type": "execute_result"
    }
   ],
   "source": [
    "# Let take a look at how are hate tweet   \n",
    "tweets_train.shape, tweets_test.shape"
   ]
  },
  {
   "cell_type": "markdown",
   "metadata": {},
   "source": [
    "### 1.2 Combine 2 datasets into one for easier processing "
   ]
  },
  {
   "cell_type": "code",
   "execution_count": 44,
   "metadata": {},
   "outputs": [
    {
     "name": "stdout",
     "output_type": "stream",
     "text": [
      "<class 'pandas.core.frame.DataFrame'>\n",
      "RangeIndex: 49159 entries, 0 to 49158\n",
      "Data columns (total 3 columns):\n",
      "id       49159 non-null int64\n",
      "label    31962 non-null float64\n",
      "tweet    49159 non-null object\n",
      "dtypes: float64(1), int64(1), object(1)\n",
      "memory usage: 1.1+ MB\n"
     ]
    },
    {
     "name": "stderr",
     "output_type": "stream",
     "text": [
      "/home/ander/anaconda3/lib/python3.7/site-packages/pandas/core/frame.py:6211: FutureWarning: Sorting because non-concatenation axis is not aligned. A future version\n",
      "of pandas will change to not sort by default.\n",
      "\n",
      "To accept the future behavior, pass 'sort=False'.\n",
      "\n",
      "To retain the current behavior and silence the warning, pass 'sort=True'.\n",
      "\n",
      "  sort=sort)\n"
     ]
    }
   ],
   "source": [
    "data = tweets_train.append(tweets_test, ignore_index=True)\n",
    "data.info()"
   ]
  },
  {
   "cell_type": "markdown",
   "metadata": {},
   "source": [
    "## 2/ Data preprocessing"
   ]
  },
  {
   "cell_type": "code",
   "execution_count": 45,
   "metadata": {},
   "outputs": [
    {
     "data": {
      "text/html": [
       "<div>\n",
       "<style scoped>\n",
       "    .dataframe tbody tr th:only-of-type {\n",
       "        vertical-align: middle;\n",
       "    }\n",
       "\n",
       "    .dataframe tbody tr th {\n",
       "        vertical-align: top;\n",
       "    }\n",
       "\n",
       "    .dataframe thead th {\n",
       "        text-align: right;\n",
       "    }\n",
       "</style>\n",
       "<table border=\"1\" class=\"dataframe\">\n",
       "  <thead>\n",
       "    <tr style=\"text-align: right;\">\n",
       "      <th></th>\n",
       "      <th>id</th>\n",
       "      <th>label</th>\n",
       "      <th>tweet</th>\n",
       "    </tr>\n",
       "  </thead>\n",
       "  <tbody>\n",
       "    <tr>\n",
       "      <th>0</th>\n",
       "      <td>1</td>\n",
       "      <td>0.0</td>\n",
       "      <td>@user when a father is dysfunctional and is s...</td>\n",
       "    </tr>\n",
       "    <tr>\n",
       "      <th>1</th>\n",
       "      <td>2</td>\n",
       "      <td>0.0</td>\n",
       "      <td>@user @user thanks for #lyft credit i can't us...</td>\n",
       "    </tr>\n",
       "    <tr>\n",
       "      <th>2</th>\n",
       "      <td>3</td>\n",
       "      <td>0.0</td>\n",
       "      <td>bihday your majesty</td>\n",
       "    </tr>\n",
       "    <tr>\n",
       "      <th>3</th>\n",
       "      <td>4</td>\n",
       "      <td>0.0</td>\n",
       "      <td>#model   i love u take with u all the time in ...</td>\n",
       "    </tr>\n",
       "    <tr>\n",
       "      <th>4</th>\n",
       "      <td>5</td>\n",
       "      <td>0.0</td>\n",
       "      <td>factsguide: society now    #motivation</td>\n",
       "    </tr>\n",
       "  </tbody>\n",
       "</table>\n",
       "</div>"
      ],
      "text/plain": [
       "   id  label                                              tweet\n",
       "0   1    0.0   @user when a father is dysfunctional and is s...\n",
       "1   2    0.0  @user @user thanks for #lyft credit i can't us...\n",
       "2   3    0.0                                bihday your majesty\n",
       "3   4    0.0  #model   i love u take with u all the time in ...\n",
       "4   5    0.0             factsguide: society now    #motivation"
      ]
     },
     "execution_count": 45,
     "metadata": {},
     "output_type": "execute_result"
    }
   ],
   "source": [
    "data.head()"
   ]
  },
  {
   "cell_type": "markdown",
   "metadata": {},
   "source": [
    "### 2.1 Remove @user or all words starting with ‘@’.**"
   ]
  },
  {
   "cell_type": "markdown",
   "metadata": {},
   "source": [
    "**We can see lots of tweets have meantioning text @user that not make sense to evaluate sentiment, so we will remove it from tweets. Moreover, we need to also remove all tose kind of mentioning words starting with ‘@’**\n",
    "#### Firstly, we define a function to use later"
   ]
  },
  {
   "cell_type": "code",
   "execution_count": 46,
   "metadata": {},
   "outputs": [],
   "source": [
    "def remove_pattern(input_txt, pattern):\n",
    "    r = re.findall(pattern, input_txt)\n",
    "    for i in r:\n",
    "        input_txt = re.sub(i, '', input_txt)\n",
    "        \n",
    "    return input_txt"
   ]
  },
  {
   "cell_type": "markdown",
   "metadata": {},
   "source": [
    "**Apply function to remove @user , @...**"
   ]
  },
  {
   "cell_type": "code",
   "execution_count": 47,
   "metadata": {},
   "outputs": [],
   "source": [
    "data['clean_tweet'] = np.vectorize(remove_pattern)(data['tweet'], \"@[\\w]*\")"
   ]
  },
  {
   "cell_type": "code",
   "execution_count": 48,
   "metadata": {},
   "outputs": [
    {
     "data": {
      "text/html": [
       "<div>\n",
       "<style scoped>\n",
       "    .dataframe tbody tr th:only-of-type {\n",
       "        vertical-align: middle;\n",
       "    }\n",
       "\n",
       "    .dataframe tbody tr th {\n",
       "        vertical-align: top;\n",
       "    }\n",
       "\n",
       "    .dataframe thead th {\n",
       "        text-align: right;\n",
       "    }\n",
       "</style>\n",
       "<table border=\"1\" class=\"dataframe\">\n",
       "  <thead>\n",
       "    <tr style=\"text-align: right;\">\n",
       "      <th></th>\n",
       "      <th>id</th>\n",
       "      <th>label</th>\n",
       "      <th>tweet</th>\n",
       "      <th>clean_tweet</th>\n",
       "    </tr>\n",
       "  </thead>\n",
       "  <tbody>\n",
       "    <tr>\n",
       "      <th>0</th>\n",
       "      <td>1</td>\n",
       "      <td>0.0</td>\n",
       "      <td>@user when a father is dysfunctional and is s...</td>\n",
       "      <td>when a father is dysfunctional and is so sel...</td>\n",
       "    </tr>\n",
       "    <tr>\n",
       "      <th>1</th>\n",
       "      <td>2</td>\n",
       "      <td>0.0</td>\n",
       "      <td>@user @user thanks for #lyft credit i can't us...</td>\n",
       "      <td>thanks for #lyft credit i can't use cause th...</td>\n",
       "    </tr>\n",
       "    <tr>\n",
       "      <th>2</th>\n",
       "      <td>3</td>\n",
       "      <td>0.0</td>\n",
       "      <td>bihday your majesty</td>\n",
       "      <td>bihday your majesty</td>\n",
       "    </tr>\n",
       "    <tr>\n",
       "      <th>3</th>\n",
       "      <td>4</td>\n",
       "      <td>0.0</td>\n",
       "      <td>#model   i love u take with u all the time in ...</td>\n",
       "      <td>#model   i love u take with u all the time in ...</td>\n",
       "    </tr>\n",
       "    <tr>\n",
       "      <th>4</th>\n",
       "      <td>5</td>\n",
       "      <td>0.0</td>\n",
       "      <td>factsguide: society now    #motivation</td>\n",
       "      <td>factsguide: society now    #motivation</td>\n",
       "    </tr>\n",
       "  </tbody>\n",
       "</table>\n",
       "</div>"
      ],
      "text/plain": [
       "   id  label                                              tweet  \\\n",
       "0   1    0.0   @user when a father is dysfunctional and is s...   \n",
       "1   2    0.0  @user @user thanks for #lyft credit i can't us...   \n",
       "2   3    0.0                                bihday your majesty   \n",
       "3   4    0.0  #model   i love u take with u all the time in ...   \n",
       "4   5    0.0             factsguide: society now    #motivation   \n",
       "\n",
       "                                         clean_tweet  \n",
       "0    when a father is dysfunctional and is so sel...  \n",
       "1    thanks for #lyft credit i can't use cause th...  \n",
       "2                                bihday your majesty  \n",
       "3  #model   i love u take with u all the time in ...  \n",
       "4             factsguide: society now    #motivation  "
      ]
     },
     "execution_count": 48,
     "metadata": {},
     "output_type": "execute_result"
    }
   ],
   "source": [
    "data.head()"
   ]
  },
  {
   "cell_type": "markdown",
   "metadata": {},
   "source": [
    "### 2.2 HTML decoding"
   ]
  },
  {
   "cell_type": "code",
   "execution_count": 49,
   "metadata": {},
   "outputs": [
    {
     "data": {
      "text/plain": [
       "\"#bb18 is gonna suck sweaty balls this summer, tg for #bbuk good cast 2 houses secret tasks...grodner &amp; kass don't think outside the box  \""
      ]
     },
     "execution_count": 49,
     "metadata": {},
     "output_type": "execute_result"
    }
   ],
   "source": [
    "# Take a look at a line\n",
    "data.clean_tweet[1978]"
   ]
  },
  {
   "cell_type": "markdown",
   "metadata": {},
   "source": [
    "It looks like HTML encoding has not been converted to text, and ended up in text field as ‘&amp’,’&quot’,etc. \n",
    "We will use **BeautifulSoup** for decoding HTML to general text"
   ]
  },
  {
   "cell_type": "code",
   "execution_count": 50,
   "metadata": {},
   "outputs": [],
   "source": [
    "from bs4 import BeautifulSoup\n",
    "data['clean_tweet'] = [BeautifulSoup(text, 'lxml').get_text() for text in data['clean_tweet']]"
   ]
  },
  {
   "cell_type": "code",
   "execution_count": 51,
   "metadata": {},
   "outputs": [
    {
     "data": {
      "text/plain": [
       "\"#bb18 is gonna suck sweaty balls this summer, tg for #bbuk good cast 2 houses secret tasks...grodner & kass don't think outside the box  \""
      ]
     },
     "execution_count": 51,
     "metadata": {},
     "output_type": "execute_result"
    }
   ],
   "source": [
    "# check that line again to see if our code above take effect\n",
    "data.clean_tweet[1978]"
   ]
  },
  {
   "cell_type": "markdown",
   "metadata": {},
   "source": [
    "### 2.3 Removing Punctuations, Numbers, and Special Characters\n",
    "We also want to remove punctuations, numbers and even special characters since they wouldn’t help in bulding our analysis prediction"
   ]
  },
  {
   "cell_type": "code",
   "execution_count": 52,
   "metadata": {},
   "outputs": [],
   "source": [
    "data['clean_tweet'] = data['clean_tweet'].str.replace(\"[^a-zA-Z#]\", \" \")"
   ]
  },
  {
   "cell_type": "code",
   "execution_count": 53,
   "metadata": {},
   "outputs": [
    {
     "data": {
      "text/html": [
       "<div>\n",
       "<style scoped>\n",
       "    .dataframe tbody tr th:only-of-type {\n",
       "        vertical-align: middle;\n",
       "    }\n",
       "\n",
       "    .dataframe tbody tr th {\n",
       "        vertical-align: top;\n",
       "    }\n",
       "\n",
       "    .dataframe thead th {\n",
       "        text-align: right;\n",
       "    }\n",
       "</style>\n",
       "<table border=\"1\" class=\"dataframe\">\n",
       "  <thead>\n",
       "    <tr style=\"text-align: right;\">\n",
       "      <th></th>\n",
       "      <th>id</th>\n",
       "      <th>label</th>\n",
       "      <th>tweet</th>\n",
       "      <th>clean_tweet</th>\n",
       "    </tr>\n",
       "  </thead>\n",
       "  <tbody>\n",
       "    <tr>\n",
       "      <th>0</th>\n",
       "      <td>1</td>\n",
       "      <td>0.0</td>\n",
       "      <td>@user when a father is dysfunctional and is s...</td>\n",
       "      <td>when a father is dysfunctional and is so selfi...</td>\n",
       "    </tr>\n",
       "    <tr>\n",
       "      <th>1</th>\n",
       "      <td>2</td>\n",
       "      <td>0.0</td>\n",
       "      <td>@user @user thanks for #lyft credit i can't us...</td>\n",
       "      <td>thanks for #lyft credit i can t use cause they...</td>\n",
       "    </tr>\n",
       "    <tr>\n",
       "      <th>2</th>\n",
       "      <td>3</td>\n",
       "      <td>0.0</td>\n",
       "      <td>bihday your majesty</td>\n",
       "      <td>bihday your majesty</td>\n",
       "    </tr>\n",
       "    <tr>\n",
       "      <th>3</th>\n",
       "      <td>4</td>\n",
       "      <td>0.0</td>\n",
       "      <td>#model   i love u take with u all the time in ...</td>\n",
       "      <td>#model   i love u take with u all the time in ...</td>\n",
       "    </tr>\n",
       "    <tr>\n",
       "      <th>4</th>\n",
       "      <td>5</td>\n",
       "      <td>0.0</td>\n",
       "      <td>factsguide: society now    #motivation</td>\n",
       "      <td>factsguide  society now    #motivation</td>\n",
       "    </tr>\n",
       "  </tbody>\n",
       "</table>\n",
       "</div>"
      ],
      "text/plain": [
       "   id  label                                              tweet  \\\n",
       "0   1    0.0   @user when a father is dysfunctional and is s...   \n",
       "1   2    0.0  @user @user thanks for #lyft credit i can't us...   \n",
       "2   3    0.0                                bihday your majesty   \n",
       "3   4    0.0  #model   i love u take with u all the time in ...   \n",
       "4   5    0.0             factsguide: society now    #motivation   \n",
       "\n",
       "                                         clean_tweet  \n",
       "0  when a father is dysfunctional and is so selfi...  \n",
       "1  thanks for #lyft credit i can t use cause they...  \n",
       "2                                bihday your majesty  \n",
       "3  #model   i love u take with u all the time in ...  \n",
       "4             factsguide  society now    #motivation  "
      ]
     },
     "execution_count": 53,
     "metadata": {},
     "output_type": "execute_result"
    }
   ],
   "source": [
    "data.head()"
   ]
  },
  {
   "cell_type": "markdown",
   "metadata": {},
   "source": [
    "### 2.4 Remove stopwords\n",
    "The most common words are meaningless in terms of sentiment: I, to, the, and... they don't give any information on positiveness or negativeness. \n",
    "They're basically noise that can most probably be eliminated. \n",
    "It is recommended that we remove them when doing text analysis."
   ]
  },
  {
   "cell_type": "code",
   "execution_count": 54,
   "metadata": {},
   "outputs": [
    {
     "name": "stderr",
     "output_type": "stream",
     "text": [
      "[nltk_data] Downloading package stopwords to /home/ander/nltk_data...\n",
      "[nltk_data]   Package stopwords is already up-to-date!\n"
     ]
    }
   ],
   "source": [
    "nltk.download('stopwords')\n",
    "from nltk.corpus import stopwords\n",
    "stop_words = stopwords.words('english')\n",
    "\n",
    "def stopwords_processing(text):\n",
    "    # Tokenize\n",
    "    tokens = text.split(' ')\n",
    "    # Lower case\n",
    "    tokens = [w.lower() for w in tokens]\n",
    "    # Remove stop words\n",
    "    tokens = [w for w in tokens if w not in stop_words]\n",
    "    return ' '.join(tokens)"
   ]
  },
  {
   "cell_type": "code",
   "execution_count": 55,
   "metadata": {},
   "outputs": [],
   "source": [
    "data['clean_tweet'] = np.vectorize(stopwords_processing)(data['clean_tweet'])"
   ]
  },
  {
   "cell_type": "markdown",
   "metadata": {},
   "source": [
    "### 2.5 Tokenization\n",
    "Now we will tokenize all the cleaned tweets in our dataset. Tokens are individual terms or words, and tokenization is the process of splitting a string of text into tokens."
   ]
  },
  {
   "cell_type": "code",
   "execution_count": 56,
   "metadata": {},
   "outputs": [
    {
     "data": {
      "text/plain": [
       "0    [father, dysfunctional, selfish, drags, kids, ...\n",
       "1    [thanks, #lyft, credit, use, cause, offer, whe...\n",
       "2                                    [bihday, majesty]\n",
       "3                 [#model, love, u, take, u, time, ur]\n",
       "4                   [factsguide, society, #motivation]\n",
       "Name: clean_tweet, dtype: object"
      ]
     },
     "execution_count": 56,
     "metadata": {},
     "output_type": "execute_result"
    }
   ],
   "source": [
    "tokenized_tweet = data['clean_tweet'].apply(lambda x: x.split())\n",
    "tokenized_tweet.head()"
   ]
  },
  {
   "cell_type": "code",
   "execution_count": 57,
   "metadata": {},
   "outputs": [
    {
     "data": {
      "text/plain": [
       "0    [father, dysfunct, selfish, drag, kid, dysfunc...\n",
       "1    [thank, #lyft, credit, use, caus, offer, wheel...\n",
       "2                                    [bihday, majesti]\n",
       "3                 [#model, love, u, take, u, time, ur]\n",
       "4                         [factsguid, societi, #motiv]\n",
       "Name: clean_tweet, dtype: object"
      ]
     },
     "execution_count": 57,
     "metadata": {},
     "output_type": "execute_result"
    }
   ],
   "source": [
    "from nltk.stem.porter import *\n",
    "stemmer = PorterStemmer()\n",
    "\n",
    "tokenized_tweet = tokenized_tweet.apply(lambda x: [stemmer.stem(i) for i in x]) # stemming\n",
    "tokenized_tweet.head()"
   ]
  },
  {
   "cell_type": "code",
   "execution_count": 58,
   "metadata": {},
   "outputs": [],
   "source": [
    "for i in range(len(tokenized_tweet)):\n",
    "    tokenized_tweet[i] = ' '.join(tokenized_tweet[i])\n",
    "\n",
    "data['clean_tweet'] = tokenized_tweet"
   ]
  },
  {
   "cell_type": "code",
   "execution_count": 59,
   "metadata": {},
   "outputs": [
    {
     "data": {
      "text/html": [
       "<div>\n",
       "<style scoped>\n",
       "    .dataframe tbody tr th:only-of-type {\n",
       "        vertical-align: middle;\n",
       "    }\n",
       "\n",
       "    .dataframe tbody tr th {\n",
       "        vertical-align: top;\n",
       "    }\n",
       "\n",
       "    .dataframe thead th {\n",
       "        text-align: right;\n",
       "    }\n",
       "</style>\n",
       "<table border=\"1\" class=\"dataframe\">\n",
       "  <thead>\n",
       "    <tr style=\"text-align: right;\">\n",
       "      <th></th>\n",
       "      <th>id</th>\n",
       "      <th>label</th>\n",
       "      <th>tweet</th>\n",
       "      <th>clean_tweet</th>\n",
       "    </tr>\n",
       "  </thead>\n",
       "  <tbody>\n",
       "    <tr>\n",
       "      <th>0</th>\n",
       "      <td>1</td>\n",
       "      <td>0.0</td>\n",
       "      <td>@user when a father is dysfunctional and is s...</td>\n",
       "      <td>father dysfunct selfish drag kid dysfunct #run</td>\n",
       "    </tr>\n",
       "    <tr>\n",
       "      <th>1</th>\n",
       "      <td>2</td>\n",
       "      <td>0.0</td>\n",
       "      <td>@user @user thanks for #lyft credit i can't us...</td>\n",
       "      <td>thank #lyft credit use caus offer wheelchair v...</td>\n",
       "    </tr>\n",
       "    <tr>\n",
       "      <th>2</th>\n",
       "      <td>3</td>\n",
       "      <td>0.0</td>\n",
       "      <td>bihday your majesty</td>\n",
       "      <td>bihday majesti</td>\n",
       "    </tr>\n",
       "    <tr>\n",
       "      <th>3</th>\n",
       "      <td>4</td>\n",
       "      <td>0.0</td>\n",
       "      <td>#model   i love u take with u all the time in ...</td>\n",
       "      <td>#model love u take u time ur</td>\n",
       "    </tr>\n",
       "    <tr>\n",
       "      <th>4</th>\n",
       "      <td>5</td>\n",
       "      <td>0.0</td>\n",
       "      <td>factsguide: society now    #motivation</td>\n",
       "      <td>factsguid societi #motiv</td>\n",
       "    </tr>\n",
       "  </tbody>\n",
       "</table>\n",
       "</div>"
      ],
      "text/plain": [
       "   id  label                                              tweet  \\\n",
       "0   1    0.0   @user when a father is dysfunctional and is s...   \n",
       "1   2    0.0  @user @user thanks for #lyft credit i can't us...   \n",
       "2   3    0.0                                bihday your majesty   \n",
       "3   4    0.0  #model   i love u take with u all the time in ...   \n",
       "4   5    0.0             factsguide: society now    #motivation   \n",
       "\n",
       "                                         clean_tweet  \n",
       "0     father dysfunct selfish drag kid dysfunct #run  \n",
       "1  thank #lyft credit use caus offer wheelchair v...  \n",
       "2                                     bihday majesti  \n",
       "3                       #model love u take u time ur  \n",
       "4                           factsguid societi #motiv  "
      ]
     },
     "execution_count": 59,
     "metadata": {},
     "output_type": "execute_result"
    }
   ],
   "source": [
    "data.head()"
   ]
  },
  {
   "cell_type": "markdown",
   "metadata": {},
   "source": [
    "## 3/ Word map & hashtags analysis for negative  tweets  (in our work they're called Racist/Sexist Tweets)"
   ]
  },
  {
   "cell_type": "markdown",
   "metadata": {},
   "source": [
    "### 3.1 Racist/Sexist Tweets"
   ]
  },
  {
   "cell_type": "code",
   "execution_count": 60,
   "metadata": {},
   "outputs": [
    {
     "data": {
      "image/png": "[encoded data removed]",
      "text/plain": [
       "<Figure size 720x504 with 1 Axes>"
      ]
     },
     "metadata": {
      "needs_background": "light"
     },
     "output_type": "display_data"
    }
   ],
   "source": [
    "from wordcloud import WordCloud\n",
    "negative_words = ' '.join([text for text in data['clean_tweet'][data['label'] == 1]])\n",
    "wordcloud = WordCloud(width=800, height=500,\n",
    "random_state=21, max_font_size=110).generate(negative_words)\n",
    "plt.figure(figsize=(10, 7))\n",
    "plt.imshow(wordcloud, interpolation=\"bilinear\")\n",
    "plt.axis('off')\n",
    "plt.show()"
   ]
  },
  {
   "cell_type": "markdown",
   "metadata": {},
   "source": [
    "As we can clearly see, most of the words have negative connotations. So, it seems we have a pretty good text data to work on. Next we will the hashtags/trends in our twitter data."
   ]
  },
  {
   "cell_type": "markdown",
   "metadata": {},
   "source": [
    "### 3.2 Impact of Hashtags on tweets sentiment - should we remove hashtags?"
   ]
  },
  {
   "cell_type": "code",
   "execution_count": 61,
   "metadata": {},
   "outputs": [],
   "source": [
    "# let define a function to collect hashtags\n",
    "def hashtag_extract(x):\n",
    "    hashtags = []\n",
    "    # Loop over the words in the tweet\n",
    "    for i in x:\n",
    "        ht = re.findall(r\"#(\\w+)\", i)\n",
    "        hashtags.append(ht)\n",
    "\n",
    "    return hashtags"
   ]
  },
  {
   "cell_type": "code",
   "execution_count": 62,
   "metadata": {},
   "outputs": [],
   "source": [
    "# extracting hashtags from racist/sexist tweets\n",
    "HT_negative = hashtag_extract(data['clean_tweet'][data['label'] == 1])\n",
    "HT_negative = sum(HT_negative,[])"
   ]
  },
  {
   "cell_type": "code",
   "execution_count": 63,
   "metadata": {},
   "outputs": [
    {
     "data": {
      "image/png": "[encoded data removed]",
      "text/plain": [
       "<Figure size 1152x360 with 1 Axes>"
      ]
     },
     "metadata": {
      "needs_background": "light"
     },
     "output_type": "display_data"
    }
   ],
   "source": [
    "b = nltk.FreqDist(HT_negative)\n",
    "e = pd.DataFrame({'Hashtag': list(b.keys()), 'Count': list(b.values())})\n",
    "# selecting top 10 most frequent hashtags\n",
    "e = e.nlargest(columns=\"Count\", n = 10)   \n",
    "plt.figure(figsize=(16,5))\n",
    "ax = sns.barplot(data=e, x= \"Hashtag\", y = \"Count\")\n",
    "ax.set(ylabel = 'Count')\n",
    "plt.show()"
   ]
  },
  {
   "cell_type": "markdown",
   "metadata": {},
   "source": [
    "So we can see most of hashtags make sense and contribute to the sentiment of tweet. Hence, we should keep these hashtags in our data as they contain useful information."
   ]
  },
  {
   "cell_type": "markdown",
   "metadata": {},
   "source": [
    "## 4/  Extracting Features from Cleaned Tweets & Bulding Models"
   ]
  },
  {
   "cell_type": "markdown",
   "metadata": {},
   "source": [
    "### 4.1 Import libraries & Prepare functions"
   ]
  },
  {
   "cell_type": "code",
   "execution_count": 64,
   "metadata": {},
   "outputs": [],
   "source": [
    "from sklearn.pipeline import Pipeline\n",
    "from sklearn.feature_extraction.text import CountVectorizer\n",
    "from sklearn.feature_extraction.text import TfidfVectorizer\n",
    "from sklearn.linear_model import LogisticRegression\n",
    "from sklearn.ensemble import RandomForestClassifier\n",
    "from sklearn import svm\n",
    "from sklearn.model_selection import KFold\n",
    "from sklearn.model_selection import cross_val_score\n",
    "\n",
    "def build_model(mode, classifier):\n",
    "    # Intent to use default paramaters for show case\n",
    "    vect = None\n",
    "    if mode == 'bag_of_words':\n",
    "        vect = CountVectorizer()\n",
    "        print(vect)\n",
    "    elif mode == 'tfidf':\n",
    "        vect = TfidfVectorizer()\n",
    "    else:\n",
    "        raise ValueError('Mode should be either count or tfidf')\n",
    "        \n",
    "    if classifier == 'logistic_regression': \n",
    "        clf = LogisticRegression(solver='newton-cg',random_state=101, n_jobs=-1)\n",
    "    elif classifier == 'random_forest':\n",
    "        clf = RandomForestClassifier(n_estimators=100, random_state=101)\n",
    "    elif classifier == 'support_vector_machine':\n",
    "        clf = svm.SVC(kernel='linear', C=1, probability=True)\n",
    "    \n",
    "    return Pipeline([\n",
    "        ('vect', vect),\n",
    "        ('clf' , clf)\n",
    "    ])\n",
    "\n",
    "def pipeline(x, y, mode, classifier):\n",
    "    model_pipeline = build_model(mode, classifier)\n",
    "    cv = KFold(n_splits=5, shuffle=True)\n",
    "    \n",
    "    scores = cross_val_score(model_pipeline, x, y, cv=cv, scoring='f1')\n",
    "    print(\"F1-score: %0.2f (+/- %0.2f)\" % (scores.mean(), scores.std() * 2))\n",
    "    \n",
    "    return model_pipeline"
   ]
  },
  {
   "cell_type": "markdown",
   "metadata": {},
   "source": [
    "### 4.2 Select train dataset & prepare test set"
   ]
  },
  {
   "cell_type": "code",
   "execution_count": 65,
   "metadata": {
    "scrolled": true
   },
   "outputs": [
    {
     "data": {
      "text/html": [
       "<div>\n",
       "<style scoped>\n",
       "    .dataframe tbody tr th:only-of-type {\n",
       "        vertical-align: middle;\n",
       "    }\n",
       "\n",
       "    .dataframe tbody tr th {\n",
       "        vertical-align: top;\n",
       "    }\n",
       "\n",
       "    .dataframe thead th {\n",
       "        text-align: right;\n",
       "    }\n",
       "</style>\n",
       "<table border=\"1\" class=\"dataframe\">\n",
       "  <thead>\n",
       "    <tr style=\"text-align: right;\">\n",
       "      <th></th>\n",
       "      <th>id</th>\n",
       "      <th>label</th>\n",
       "      <th>tweet</th>\n",
       "      <th>clean_tweet</th>\n",
       "    </tr>\n",
       "  </thead>\n",
       "  <tbody>\n",
       "    <tr>\n",
       "      <th>0</th>\n",
       "      <td>1</td>\n",
       "      <td>0.0</td>\n",
       "      <td>@user when a father is dysfunctional and is s...</td>\n",
       "      <td>father dysfunct selfish drag kid dysfunct #run</td>\n",
       "    </tr>\n",
       "    <tr>\n",
       "      <th>1</th>\n",
       "      <td>2</td>\n",
       "      <td>0.0</td>\n",
       "      <td>@user @user thanks for #lyft credit i can't us...</td>\n",
       "      <td>thank #lyft credit use caus offer wheelchair v...</td>\n",
       "    </tr>\n",
       "    <tr>\n",
       "      <th>2</th>\n",
       "      <td>3</td>\n",
       "      <td>0.0</td>\n",
       "      <td>bihday your majesty</td>\n",
       "      <td>bihday majesti</td>\n",
       "    </tr>\n",
       "    <tr>\n",
       "      <th>3</th>\n",
       "      <td>4</td>\n",
       "      <td>0.0</td>\n",
       "      <td>#model   i love u take with u all the time in ...</td>\n",
       "      <td>#model love u take u time ur</td>\n",
       "    </tr>\n",
       "    <tr>\n",
       "      <th>4</th>\n",
       "      <td>5</td>\n",
       "      <td>0.0</td>\n",
       "      <td>factsguide: society now    #motivation</td>\n",
       "      <td>factsguid societi #motiv</td>\n",
       "    </tr>\n",
       "    <tr>\n",
       "      <th>5</th>\n",
       "      <td>6</td>\n",
       "      <td>0.0</td>\n",
       "      <td>[2/2] huge fan fare and big talking before the...</td>\n",
       "      <td>huge fan fare big talk leav chao pay disput ge...</td>\n",
       "    </tr>\n",
       "    <tr>\n",
       "      <th>6</th>\n",
       "      <td>7</td>\n",
       "      <td>0.0</td>\n",
       "      <td>@user camping tomorrow @user @user @user @use...</td>\n",
       "      <td>camp tomorrow danni</td>\n",
       "    </tr>\n",
       "    <tr>\n",
       "      <th>7</th>\n",
       "      <td>8</td>\n",
       "      <td>0.0</td>\n",
       "      <td>the next school year is the year for exams.Ã°Â...</td>\n",
       "      <td>next school year year exam think #school #exam...</td>\n",
       "    </tr>\n",
       "    <tr>\n",
       "      <th>8</th>\n",
       "      <td>9</td>\n",
       "      <td>0.0</td>\n",
       "      <td>we won!!! love the land!!! #allin #cavs #champ...</td>\n",
       "      <td>love land #allin #cav #champion #cleveland #cl...</td>\n",
       "    </tr>\n",
       "    <tr>\n",
       "      <th>9</th>\n",
       "      <td>10</td>\n",
       "      <td>0.0</td>\n",
       "      <td>@user @user welcome here !  i'm   it's so #gr...</td>\n",
       "      <td>welcom #gr</td>\n",
       "    </tr>\n",
       "    <tr>\n",
       "      <th>10</th>\n",
       "      <td>11</td>\n",
       "      <td>0.0</td>\n",
       "      <td>Ã¢ÂÂ #ireland consumer price index (mom) cl...</td>\n",
       "      <td>#ireland consum price index mom climb previou ...</td>\n",
       "    </tr>\n",
       "    <tr>\n",
       "      <th>11</th>\n",
       "      <td>12</td>\n",
       "      <td>0.0</td>\n",
       "      <td>we are so selfish. #orlando #standwithorlando ...</td>\n",
       "      <td>selfish #orlando #standwithorlando #pulseshoot...</td>\n",
       "    </tr>\n",
       "    <tr>\n",
       "      <th>12</th>\n",
       "      <td>13</td>\n",
       "      <td>0.0</td>\n",
       "      <td>i get to see my daddy today!!   #80days #getti...</td>\n",
       "      <td>get see daddi today # day #gettingf</td>\n",
       "    </tr>\n",
       "    <tr>\n",
       "      <th>13</th>\n",
       "      <td>14</td>\n",
       "      <td>1.0</td>\n",
       "      <td>@user #cnn calls #michigan middle school 'buil...</td>\n",
       "      <td>#cnn call #michigan middl school build wall ch...</td>\n",
       "    </tr>\n",
       "    <tr>\n",
       "      <th>14</th>\n",
       "      <td>15</td>\n",
       "      <td>1.0</td>\n",
       "      <td>no comment!  in #australia   #opkillingbay #se...</td>\n",
       "      <td>comment #australia #opkillingbay #seashepherd ...</td>\n",
       "    </tr>\n",
       "    <tr>\n",
       "      <th>15</th>\n",
       "      <td>16</td>\n",
       "      <td>0.0</td>\n",
       "      <td>ouch...junior is angryÃ°ÂÂÂ#got7 #junior #y...</td>\n",
       "      <td>ouch junior angri #got #junior #yugyoem #omg</td>\n",
       "    </tr>\n",
       "    <tr>\n",
       "      <th>16</th>\n",
       "      <td>17</td>\n",
       "      <td>0.0</td>\n",
       "      <td>i am thankful for having a paner. #thankful #p...</td>\n",
       "      <td>thank paner #thank #posit</td>\n",
       "    </tr>\n",
       "    <tr>\n",
       "      <th>17</th>\n",
       "      <td>18</td>\n",
       "      <td>1.0</td>\n",
       "      <td>retweet if you agree!</td>\n",
       "      <td>retweet agre</td>\n",
       "    </tr>\n",
       "    <tr>\n",
       "      <th>18</th>\n",
       "      <td>19</td>\n",
       "      <td>0.0</td>\n",
       "      <td>its #friday! Ã°ÂÂÂ smiles all around via ig...</td>\n",
       "      <td>#friday smile around via ig user #cooki make p...</td>\n",
       "    </tr>\n",
       "    <tr>\n",
       "      <th>19</th>\n",
       "      <td>20</td>\n",
       "      <td>0.0</td>\n",
       "      <td>as we all know, essential oils are not made of...</td>\n",
       "      <td>know essenti oil made chemic</td>\n",
       "    </tr>\n",
       "    <tr>\n",
       "      <th>20</th>\n",
       "      <td>21</td>\n",
       "      <td>0.0</td>\n",
       "      <td>#euro2016 people blaming ha for conceded goal ...</td>\n",
       "      <td>#euro peopl blame ha conced goal fat rooney ga...</td>\n",
       "    </tr>\n",
       "    <tr>\n",
       "      <th>21</th>\n",
       "      <td>22</td>\n",
       "      <td>0.0</td>\n",
       "      <td>sad little dude..   #badday #coneofshame #cats...</td>\n",
       "      <td>sad littl dude #badday #coneofsham #cat #piss ...</td>\n",
       "    </tr>\n",
       "    <tr>\n",
       "      <th>22</th>\n",
       "      <td>23</td>\n",
       "      <td>0.0</td>\n",
       "      <td>product of the day: happy man #wine tool  who'...</td>\n",
       "      <td>product day happi man #wine tool #weekend time...</td>\n",
       "    </tr>\n",
       "    <tr>\n",
       "      <th>23</th>\n",
       "      <td>24</td>\n",
       "      <td>1.0</td>\n",
       "      <td>@user @user lumpy says i am a . prove it lumpy.</td>\n",
       "      <td>lumpi say prove lumpi</td>\n",
       "    </tr>\n",
       "    <tr>\n",
       "      <th>24</th>\n",
       "      <td>25</td>\n",
       "      <td>0.0</td>\n",
       "      <td>@user #tgif   #ff to my #gamedev #indiedev #i...</td>\n",
       "      <td>#tgif #ff #gamedev #indiedev #indiegamedev #squad</td>\n",
       "    </tr>\n",
       "    <tr>\n",
       "      <th>25</th>\n",
       "      <td>26</td>\n",
       "      <td>0.0</td>\n",
       "      <td>beautiful sign by vendor 80 for $45.00!! #upsi...</td>\n",
       "      <td>beauti sign vendor #upsideofflorida #shopalyss...</td>\n",
       "    </tr>\n",
       "    <tr>\n",
       "      <th>26</th>\n",
       "      <td>27</td>\n",
       "      <td>0.0</td>\n",
       "      <td>@user all #smiles when #media is   !! Ã°ÂÂÂ...</td>\n",
       "      <td>#smile #media #pressconfer #antalya #turkey su...</td>\n",
       "    </tr>\n",
       "    <tr>\n",
       "      <th>27</th>\n",
       "      <td>28</td>\n",
       "      <td>0.0</td>\n",
       "      <td>we had a great panel on the mediatization of t...</td>\n",
       "      <td>great panel mediat public servic #ica</td>\n",
       "    </tr>\n",
       "    <tr>\n",
       "      <th>28</th>\n",
       "      <td>29</td>\n",
       "      <td>0.0</td>\n",
       "      <td>happy father's day @user Ã°ÂÂÂÃ°ÂÂÂÃ°ÂÂ...</td>\n",
       "      <td>happi father day</td>\n",
       "    </tr>\n",
       "    <tr>\n",
       "      <th>29</th>\n",
       "      <td>30</td>\n",
       "      <td>0.0</td>\n",
       "      <td>50 people went to nightclub to have a good nig...</td>\n",
       "      <td>peopl went nightclub good night man action mea...</td>\n",
       "    </tr>\n",
       "    <tr>\n",
       "      <th>...</th>\n",
       "      <td>...</td>\n",
       "      <td>...</td>\n",
       "      <td>...</td>\n",
       "      <td>...</td>\n",
       "    </tr>\n",
       "    <tr>\n",
       "      <th>49129</th>\n",
       "      <td>49130</td>\n",
       "      <td>NaN</td>\n",
       "      <td>people do anything for fucking attention nowad...</td>\n",
       "      <td>peopl anyth fuck attent nowaday</td>\n",
       "    </tr>\n",
       "    <tr>\n",
       "      <th>49130</th>\n",
       "      <td>49131</td>\n",
       "      <td>NaN</td>\n",
       "      <td>creative bubble got burst Ã°ÂÂÂ¢ looking for...</td>\n",
       "      <td>creativ bubbl got burst look forward day never...</td>\n",
       "    </tr>\n",
       "    <tr>\n",
       "      <th>49131</th>\n",
       "      <td>49132</td>\n",
       "      <td>NaN</td>\n",
       "      <td>tomorrow is gonna be a big day! we are going t...</td>\n",
       "      <td>tomorrow gonna big day go deliv first box book...</td>\n",
       "    </tr>\n",
       "    <tr>\n",
       "      <th>49132</th>\n",
       "      <td>49133</td>\n",
       "      <td>NaN</td>\n",
       "      <td>i am thankful for baby giggles. #thankful #pos...</td>\n",
       "      <td>thank babi giggl #thank #posit</td>\n",
       "    </tr>\n",
       "    <tr>\n",
       "      <th>49133</th>\n",
       "      <td>49134</td>\n",
       "      <td>NaN</td>\n",
       "      <td>#model   i love u take with u all the time in ...</td>\n",
       "      <td>#model love u take u time ur</td>\n",
       "    </tr>\n",
       "    <tr>\n",
       "      <th>49134</th>\n",
       "      <td>49135</td>\n",
       "      <td>NaN</td>\n",
       "      <td>in life u will grow to learn some pple will wo...</td>\n",
       "      <td>life u grow learn pple work fuck u coz ur life...</td>\n",
       "    </tr>\n",
       "    <tr>\n",
       "      <th>49135</th>\n",
       "      <td>49136</td>\n",
       "      <td>NaN</td>\n",
       "      <td>Ã°ÂÂÂi was the storm,you were the rain. tog...</td>\n",
       "      <td>storm rain togeth destroy town becam name #myq...</td>\n",
       "    </tr>\n",
       "    <tr>\n",
       "      <th>49136</th>\n",
       "      <td>49137</td>\n",
       "      <td>NaN</td>\n",
       "      <td>lovelgq -  broken ep via   #rnb #love #heabrok...</td>\n",
       "      <td>lovelgq broken ep via #rnb #love #heabroken #h...</td>\n",
       "    </tr>\n",
       "    <tr>\n",
       "      <th>49137</th>\n",
       "      <td>49138</td>\n",
       "      <td>NaN</td>\n",
       "      <td>spread love not hateÃ¢ÂÂ¤Ã¯Â¸ÂÃ°ÂÂÂÃ°ÂÂ...</td>\n",
       "      <td>spread love hate #prayingfororlando #loveanoth...</td>\n",
       "    </tr>\n",
       "    <tr>\n",
       "      <th>49138</th>\n",
       "      <td>49139</td>\n",
       "      <td>NaN</td>\n",
       "      <td>@user @user are the most racist pay ever!!!!!</td>\n",
       "      <td>racist pay ever</td>\n",
       "    </tr>\n",
       "    <tr>\n",
       "      <th>49139</th>\n",
       "      <td>49140</td>\n",
       "      <td>NaN</td>\n",
       "      <td>i am thankful for children. #thankful #positiv...</td>\n",
       "      <td>thank children #thank #posit</td>\n",
       "    </tr>\n",
       "    <tr>\n",
       "      <th>49140</th>\n",
       "      <td>49141</td>\n",
       "      <td>NaN</td>\n",
       "      <td>liverpool Ã¢ÂÂ¤Ã¯Â¸ÂÃ°ÂÂÂ¬Ã°ÂÂÂ§ #walk #...</td>\n",
       "      <td>liverpool #walk #liverpool #starbuck #avidaebo...</td>\n",
       "    </tr>\n",
       "    <tr>\n",
       "      <th>49141</th>\n",
       "      <td>49142</td>\n",
       "      <td>NaN</td>\n",
       "      <td>#bakersfield   rooster simulation: i want to c...</td>\n",
       "      <td>#bakersfield rooster simul want climb vast exp...</td>\n",
       "    </tr>\n",
       "    <tr>\n",
       "      <th>49142</th>\n",
       "      <td>49143</td>\n",
       "      <td>NaN</td>\n",
       "      <td>por do sol Ã³Â¾ÂÂÃ¢ÂÂ¤Ã¯Â¸Â#instagood #bea...</td>\n",
       "      <td>por sol #instagood #beauti #instadaili #instal...</td>\n",
       "    </tr>\n",
       "    <tr>\n",
       "      <th>49143</th>\n",
       "      <td>49144</td>\n",
       "      <td>NaN</td>\n",
       "      <td>@user hell yeah what a great surprise for your...</td>\n",
       "      <td>hell yeah great surpris present enjoy pictur #...</td>\n",
       "    </tr>\n",
       "    <tr>\n",
       "      <th>49144</th>\n",
       "      <td>49145</td>\n",
       "      <td>NaN</td>\n",
       "      <td>when ur the joke ur defensive towards everythi...</td>\n",
       "      <td>ur joke ur defens toward everyth</td>\n",
       "    </tr>\n",
       "    <tr>\n",
       "      <th>49145</th>\n",
       "      <td>49146</td>\n",
       "      <td>NaN</td>\n",
       "      <td>#enjoying the #evening #sun in my #bedroom Ã¢Â...</td>\n",
       "      <td>#enjoy #even #sun #bedroom #cozi even #homeswe...</td>\n",
       "    </tr>\n",
       "    <tr>\n",
       "      <th>49146</th>\n",
       "      <td>49147</td>\n",
       "      <td>NaN</td>\n",
       "      <td>tonight on @user from 9pm gmt  you can here a ...</td>\n",
       "      <td>tonight pm gmt special earli play new song upc...</td>\n",
       "    </tr>\n",
       "    <tr>\n",
       "      <th>49147</th>\n",
       "      <td>49148</td>\n",
       "      <td>NaN</td>\n",
       "      <td>today is a good day for excercise #imready #so...</td>\n",
       "      <td>today good day excercis #imreadi #sofuckenread...</td>\n",
       "    </tr>\n",
       "    <tr>\n",
       "      <th>49148</th>\n",
       "      <td>49149</td>\n",
       "      <td>NaN</td>\n",
       "      <td>good night with a tea and music Ã¢ÂÂÃ¯Â¸ÂÃ°...</td>\n",
       "      <td>good night tea music #billi #music #tea #mug #...</td>\n",
       "    </tr>\n",
       "    <tr>\n",
       "      <th>49149</th>\n",
       "      <td>49150</td>\n",
       "      <td>NaN</td>\n",
       "      <td>loving lifeÃ°ÂÂÂºÃ°ÂÂÂ¸Ã¢ÂÂÃ¯Â¸ÂÃ°ÂÂÂ...</td>\n",
       "      <td>love life #createyourfutur #lifestyl #holiday ...</td>\n",
       "    </tr>\n",
       "    <tr>\n",
       "      <th>49150</th>\n",
       "      <td>49151</td>\n",
       "      <td>NaN</td>\n",
       "      <td>black professor demonizes, proposes nazi style...</td>\n",
       "      <td>black professor demon propos nazi style confis...</td>\n",
       "    </tr>\n",
       "    <tr>\n",
       "      <th>49151</th>\n",
       "      <td>49152</td>\n",
       "      <td>NaN</td>\n",
       "      <td>learn how to think positive.  #positive   #ins...</td>\n",
       "      <td>learn think posit #posit #instagram #instagood</td>\n",
       "    </tr>\n",
       "    <tr>\n",
       "      <th>49152</th>\n",
       "      <td>49153</td>\n",
       "      <td>NaN</td>\n",
       "      <td>we love the pretty, happy and fresh you! #teen...</td>\n",
       "      <td>love pretti happi fresh #teenilici #fixdermate...</td>\n",
       "    </tr>\n",
       "    <tr>\n",
       "      <th>49153</th>\n",
       "      <td>49154</td>\n",
       "      <td>NaN</td>\n",
       "      <td>2_damn_tuff-ruff_muff__techno_city-(ng005)-web...</td>\n",
       "      <td>damn tuff ruff muff techno citi ng web ukhx in...</td>\n",
       "    </tr>\n",
       "    <tr>\n",
       "      <th>49154</th>\n",
       "      <td>49155</td>\n",
       "      <td>NaN</td>\n",
       "      <td>thought factory: left-right polarisation! #tru...</td>\n",
       "      <td>thought factori left right polaris #trump #use...</td>\n",
       "    </tr>\n",
       "    <tr>\n",
       "      <th>49155</th>\n",
       "      <td>49156</td>\n",
       "      <td>NaN</td>\n",
       "      <td>feeling like a mermaid Ã°ÂÂÂ #hairflip #nev...</td>\n",
       "      <td>feel like mermaid #hairflip #neverreadi #forma...</td>\n",
       "    </tr>\n",
       "    <tr>\n",
       "      <th>49156</th>\n",
       "      <td>49157</td>\n",
       "      <td>NaN</td>\n",
       "      <td>#hillary #campaigned today in #ohio((omg)) &amp;am...</td>\n",
       "      <td>#hillari #campaign today #ohio omg use word li...</td>\n",
       "    </tr>\n",
       "    <tr>\n",
       "      <th>49157</th>\n",
       "      <td>49158</td>\n",
       "      <td>NaN</td>\n",
       "      <td>happy, at work conference: right mindset leads...</td>\n",
       "      <td>happi work confer right mindset lead cultur de...</td>\n",
       "    </tr>\n",
       "    <tr>\n",
       "      <th>49158</th>\n",
       "      <td>49159</td>\n",
       "      <td>NaN</td>\n",
       "      <td>my   song \"so glad\" free download!  #shoegaze ...</td>\n",
       "      <td>song glad free download #shoegaz #newmus #newsong</td>\n",
       "    </tr>\n",
       "  </tbody>\n",
       "</table>\n",
       "<p>49159 rows × 4 columns</p>\n",
       "</div>"
      ],
      "text/plain": [
       "          id  label                                              tweet  \\\n",
       "0          1    0.0   @user when a father is dysfunctional and is s...   \n",
       "1          2    0.0  @user @user thanks for #lyft credit i can't us...   \n",
       "2          3    0.0                                bihday your majesty   \n",
       "3          4    0.0  #model   i love u take with u all the time in ...   \n",
       "4          5    0.0             factsguide: society now    #motivation   \n",
       "5          6    0.0  [2/2] huge fan fare and big talking before the...   \n",
       "6          7    0.0   @user camping tomorrow @user @user @user @use...   \n",
       "7          8    0.0  the next school year is the year for exams.Ã°Â...   \n",
       "8          9    0.0  we won!!! love the land!!! #allin #cavs #champ...   \n",
       "9         10    0.0   @user @user welcome here !  i'm   it's so #gr...   \n",
       "10        11    0.0   Ã¢ÂÂ #ireland consumer price index (mom) cl...   \n",
       "11        12    0.0  we are so selfish. #orlando #standwithorlando ...   \n",
       "12        13    0.0  i get to see my daddy today!!   #80days #getti...   \n",
       "13        14    1.0  @user #cnn calls #michigan middle school 'buil...   \n",
       "14        15    1.0  no comment!  in #australia   #opkillingbay #se...   \n",
       "15        16    0.0  ouch...junior is angryÃ°ÂÂÂ#got7 #junior #y...   \n",
       "16        17    0.0  i am thankful for having a paner. #thankful #p...   \n",
       "17        18    1.0                             retweet if you agree!    \n",
       "18        19    0.0  its #friday! Ã°ÂÂÂ smiles all around via ig...   \n",
       "19        20    0.0  as we all know, essential oils are not made of...   \n",
       "20        21    0.0  #euro2016 people blaming ha for conceded goal ...   \n",
       "21        22    0.0  sad little dude..   #badday #coneofshame #cats...   \n",
       "22        23    0.0  product of the day: happy man #wine tool  who'...   \n",
       "23        24    1.0    @user @user lumpy says i am a . prove it lumpy.   \n",
       "24        25    0.0   @user #tgif   #ff to my #gamedev #indiedev #i...   \n",
       "25        26    0.0  beautiful sign by vendor 80 for $45.00!! #upsi...   \n",
       "26        27    0.0   @user all #smiles when #media is   !! Ã°ÂÂÂ...   \n",
       "27        28    0.0  we had a great panel on the mediatization of t...   \n",
       "28        29    0.0  happy father's day @user Ã°ÂÂÂÃ°ÂÂÂÃ°ÂÂ...   \n",
       "29        30    0.0  50 people went to nightclub to have a good nig...   \n",
       "...      ...    ...                                                ...   \n",
       "49129  49130    NaN  people do anything for fucking attention nowad...   \n",
       "49130  49131    NaN  creative bubble got burst Ã°ÂÂÂ¢ looking for...   \n",
       "49131  49132    NaN  tomorrow is gonna be a big day! we are going t...   \n",
       "49132  49133    NaN  i am thankful for baby giggles. #thankful #pos...   \n",
       "49133  49134    NaN  #model   i love u take with u all the time in ...   \n",
       "49134  49135    NaN  in life u will grow to learn some pple will wo...   \n",
       "49135  49136    NaN  Ã°ÂÂÂi was the storm,you were the rain. tog...   \n",
       "49136  49137    NaN  lovelgq -  broken ep via   #rnb #love #heabrok...   \n",
       "49137  49138    NaN  spread love not hateÃ¢ÂÂ¤Ã¯Â¸ÂÃ°ÂÂÂÃ°ÂÂ...   \n",
       "49138  49139    NaN     @user @user are the most racist pay ever!!!!!    \n",
       "49139  49140    NaN  i am thankful for children. #thankful #positiv...   \n",
       "49140  49141    NaN  liverpool Ã¢ÂÂ¤Ã¯Â¸ÂÃ°ÂÂÂ¬Ã°ÂÂÂ§ #walk #...   \n",
       "49141  49142    NaN  #bakersfield   rooster simulation: i want to c...   \n",
       "49142  49143    NaN  por do sol Ã³Â¾ÂÂÃ¢ÂÂ¤Ã¯Â¸Â#instagood #bea...   \n",
       "49143  49144    NaN  @user hell yeah what a great surprise for your...   \n",
       "49144  49145    NaN  when ur the joke ur defensive towards everythi...   \n",
       "49145  49146    NaN  #enjoying the #evening #sun in my #bedroom Ã¢Â...   \n",
       "49146  49147    NaN  tonight on @user from 9pm gmt  you can here a ...   \n",
       "49147  49148    NaN  today is a good day for excercise #imready #so...   \n",
       "49148  49149    NaN  good night with a tea and music Ã¢ÂÂÃ¯Â¸ÂÃ°...   \n",
       "49149  49150    NaN  loving lifeÃ°ÂÂÂºÃ°ÂÂÂ¸Ã¢ÂÂÃ¯Â¸ÂÃ°ÂÂÂ...   \n",
       "49150  49151    NaN  black professor demonizes, proposes nazi style...   \n",
       "49151  49152    NaN  learn how to think positive.  #positive   #ins...   \n",
       "49152  49153    NaN  we love the pretty, happy and fresh you! #teen...   \n",
       "49153  49154    NaN  2_damn_tuff-ruff_muff__techno_city-(ng005)-web...   \n",
       "49154  49155    NaN  thought factory: left-right polarisation! #tru...   \n",
       "49155  49156    NaN  feeling like a mermaid Ã°ÂÂÂ #hairflip #nev...   \n",
       "49156  49157    NaN  #hillary #campaigned today in #ohio((omg)) &am...   \n",
       "49157  49158    NaN  happy, at work conference: right mindset leads...   \n",
       "49158  49159    NaN  my   song \"so glad\" free download!  #shoegaze ...   \n",
       "\n",
       "                                             clean_tweet  \n",
       "0         father dysfunct selfish drag kid dysfunct #run  \n",
       "1      thank #lyft credit use caus offer wheelchair v...  \n",
       "2                                         bihday majesti  \n",
       "3                           #model love u take u time ur  \n",
       "4                               factsguid societi #motiv  \n",
       "5      huge fan fare big talk leav chao pay disput ge...  \n",
       "6                                    camp tomorrow danni  \n",
       "7      next school year year exam think #school #exam...  \n",
       "8      love land #allin #cav #champion #cleveland #cl...  \n",
       "9                                             welcom #gr  \n",
       "10     #ireland consum price index mom climb previou ...  \n",
       "11     selfish #orlando #standwithorlando #pulseshoot...  \n",
       "12                   get see daddi today # day #gettingf  \n",
       "13     #cnn call #michigan middl school build wall ch...  \n",
       "14     comment #australia #opkillingbay #seashepherd ...  \n",
       "15          ouch junior angri #got #junior #yugyoem #omg  \n",
       "16                             thank paner #thank #posit  \n",
       "17                                          retweet agre  \n",
       "18     #friday smile around via ig user #cooki make p...  \n",
       "19                          know essenti oil made chemic  \n",
       "20     #euro peopl blame ha conced goal fat rooney ga...  \n",
       "21     sad littl dude #badday #coneofsham #cat #piss ...  \n",
       "22     product day happi man #wine tool #weekend time...  \n",
       "23                                 lumpi say prove lumpi  \n",
       "24     #tgif #ff #gamedev #indiedev #indiegamedev #squad  \n",
       "25     beauti sign vendor #upsideofflorida #shopalyss...  \n",
       "26     #smile #media #pressconfer #antalya #turkey su...  \n",
       "27                 great panel mediat public servic #ica  \n",
       "28                                      happi father day  \n",
       "29     peopl went nightclub good night man action mea...  \n",
       "...                                                  ...  \n",
       "49129                    peopl anyth fuck attent nowaday  \n",
       "49130  creativ bubbl got burst look forward day never...  \n",
       "49131  tomorrow gonna big day go deliv first box book...  \n",
       "49132                     thank babi giggl #thank #posit  \n",
       "49133                       #model love u take u time ur  \n",
       "49134  life u grow learn pple work fuck u coz ur life...  \n",
       "49135  storm rain togeth destroy town becam name #myq...  \n",
       "49136  lovelgq broken ep via #rnb #love #heabroken #h...  \n",
       "49137  spread love hate #prayingfororlando #loveanoth...  \n",
       "49138                                    racist pay ever  \n",
       "49139                       thank children #thank #posit  \n",
       "49140  liverpool #walk #liverpool #starbuck #avidaebo...  \n",
       "49141  #bakersfield rooster simul want climb vast exp...  \n",
       "49142  por sol #instagood #beauti #instadaili #instal...  \n",
       "49143  hell yeah great surpris present enjoy pictur #...  \n",
       "49144                   ur joke ur defens toward everyth  \n",
       "49145  #enjoy #even #sun #bedroom #cozi even #homeswe...  \n",
       "49146  tonight pm gmt special earli play new song upc...  \n",
       "49147  today good day excercis #imreadi #sofuckenread...  \n",
       "49148  good night tea music #billi #music #tea #mug #...  \n",
       "49149  love life #createyourfutur #lifestyl #holiday ...  \n",
       "49150  black professor demon propos nazi style confis...  \n",
       "49151     learn think posit #posit #instagram #instagood  \n",
       "49152  love pretti happi fresh #teenilici #fixdermate...  \n",
       "49153  damn tuff ruff muff techno citi ng web ukhx in...  \n",
       "49154  thought factori left right polaris #trump #use...  \n",
       "49155  feel like mermaid #hairflip #neverreadi #forma...  \n",
       "49156  #hillari #campaign today #ohio omg use word li...  \n",
       "49157  happi work confer right mindset lead cultur de...  \n",
       "49158  song glad free download #shoegaz #newmus #newsong  \n",
       "\n",
       "[49159 rows x 4 columns]"
      ]
     },
     "execution_count": 65,
     "metadata": {},
     "output_type": "execute_result"
    }
   ],
   "source": [
    "data"
   ]
  },
  {
   "cell_type": "markdown",
   "metadata": {},
   "source": [
    "Our train dataset include rows having known label 0/1, all rows having label \"NaN\" are unseen data and be extracted into our test set for final prediction later on"
   ]
  },
  {
   "cell_type": "code",
   "execution_count": 66,
   "metadata": {},
   "outputs": [
    {
     "name": "stdout",
     "output_type": "stream",
     "text": [
      "31962\n"
     ]
    }
   ],
   "source": [
    "print(tweets_train.shape[0], sep=\"\\n\")"
   ]
  },
  {
   "cell_type": "code",
   "execution_count": 67,
   "metadata": {},
   "outputs": [],
   "source": [
    "from sklearn.model_selection import train_test_split\n",
    "from sklearn.metrics import f1_score\n",
    "\n",
    "X_train = data[:31962]['clean_tweet']\n",
    "y_train = data[:31962]['label']\n",
    "test_final = data[31962:]['clean_tweet']\n"
   ]
  },
  {
   "cell_type": "markdown",
   "metadata": {},
   "source": [
    "### 4.3 Applying model + Cross-validation on each model performance"
   ]
  },
  {
   "cell_type": "markdown",
   "metadata": {},
   "source": [
    "#### Logistic Regression\n"
   ]
  },
  {
   "cell_type": "code",
   "execution_count": 69,
   "metadata": {},
   "outputs": [
    {
     "name": "stdout",
     "output_type": "stream",
     "text": [
      "------ Bag of Words + Logistic Regression ------\n",
      "CountVectorizer(analyzer='word', binary=False, decode_error='strict',\n",
      "        dtype=<class 'numpy.int64'>, encoding='utf-8', input='content',\n",
      "        lowercase=True, max_df=1.0, max_features=None, min_df=1,\n",
      "        ngram_range=(1, 1), preprocessor=None, stop_words=None,\n",
      "        strip_accents=None, token_pattern='(?u)\\\\b\\\\w\\\\w+\\\\b',\n",
      "        tokenizer=None, vocabulary=None)\n",
      "F1-score: 0.65 (+/- 0.03)\n",
      "------ TFIDF + Logistic Regression------\n",
      "F1-score: 0.47 (+/- 0.03)\n"
     ]
    }
   ],
   "source": [
    "print('------ Bag of Words + Logistic Regression ------')\n",
    "model_lr_bow = pipeline(X_train, y_train, mode='bag_of_words', classifier='logistic_regression')\n",
    "\n",
    "print('------ TFIDF + Logistic Regression------')\n",
    "model_lr_tfidf = pipeline(X_train, y_train, mode='tfidf', classifier='logistic_regression')"
   ]
  },
  {
   "cell_type": "markdown",
   "metadata": {},
   "source": [
    "#### Random Forest"
   ]
  },
  {
   "cell_type": "code",
   "execution_count": 70,
   "metadata": {},
   "outputs": [
    {
     "name": "stdout",
     "output_type": "stream",
     "text": [
      "------ Bag of Words + Random Forest ------\n",
      "CountVectorizer(analyzer='word', binary=False, decode_error='strict',\n",
      "        dtype=<class 'numpy.int64'>, encoding='utf-8', input='content',\n",
      "        lowercase=True, max_df=1.0, max_features=None, min_df=1,\n",
      "        ngram_range=(1, 1), preprocessor=None, stop_words=None,\n",
      "        strip_accents=None, token_pattern='(?u)\\\\b\\\\w\\\\w+\\\\b',\n",
      "        tokenizer=None, vocabulary=None)\n",
      "F1-score: 0.68 (+/- 0.03)\n",
      "------ TF-IDF + Random Forest ------\n",
      "F1-score: 0.68 (+/- 0.03)\n"
     ]
    }
   ],
   "source": [
    "print('------ Bag of Words + Random Forest ------')\n",
    "model_rf_bow = pipeline(X_train, y_train, mode='bag_of_words', classifier='random_forest')\n",
    "\n",
    "print('------ TF-IDF + Random Forest ------')\n",
    "model_rf_tfidf = pipeline(X_train, y_train, mode='tfidf', classifier='random_forest')"
   ]
  },
  {
   "cell_type": "markdown",
   "metadata": {},
   "source": [
    "#### Support Vector Machine"
   ]
  },
  {
   "cell_type": "code",
   "execution_count": 71,
   "metadata": {},
   "outputs": [
    {
     "name": "stdout",
     "output_type": "stream",
     "text": [
      "------ Bag of Words + Support Vector Machine ------\n",
      "CountVectorizer(analyzer='word', binary=False, decode_error='strict',\n",
      "        dtype=<class 'numpy.int64'>, encoding='utf-8', input='content',\n",
      "        lowercase=True, max_df=1.0, max_features=None, min_df=1,\n",
      "        ngram_range=(1, 1), preprocessor=None, stop_words=None,\n",
      "        strip_accents=None, token_pattern='(?u)\\\\b\\\\w\\\\w+\\\\b',\n",
      "        tokenizer=None, vocabulary=None)\n",
      "F1-score: 0.69 (+/- 0.06)\n",
      "------ TF-IDF + Support Vector Machine ------\n",
      "F1-score: 0.67 (+/- 0.04)\n"
     ]
    }
   ],
   "source": [
    "print('------ Bag of Words + Support Vector Machine ------')\n",
    "model_svm_bow = pipeline(X_train, y_train, mode='bag_of_words', classifier='support_vector_machine')\n",
    "\n",
    "print('------ TF-IDF + Support Vector Machine ------')\n",
    "model_svm_tfidf = pipeline(X_train, y_train, mode='tfidf', classifier='support_vector_machine')"
   ]
  },
  {
   "cell_type": "markdown",
   "metadata": {},
   "source": [
    "**My evaluation:  it seems the Support Vector Machine model results in highest f1-score, but its performance is not ideal at all (quite slow on my machine). Random Forest has a good balance of hight f1-score + performance. By the way, our choice will be Support Vector Machine + Bag of Words feature to aim the most prefered f1-score**"
   ]
  },
  {
   "cell_type": "markdown",
   "metadata": {},
   "source": [
    "### 4.4 Training model"
   ]
  },
  {
   "cell_type": "code",
   "execution_count": 76,
   "metadata": {},
   "outputs": [
    {
     "name": "stdout",
     "output_type": "stream",
     "text": [
      "CountVectorizer(analyzer='word', binary=False, decode_error='strict',\n",
      "        dtype=<class 'numpy.int64'>, encoding='utf-8', input='content',\n",
      "        lowercase=True, max_df=1.0, max_features=None, min_df=1,\n",
      "        ngram_range=(1, 1), preprocessor=None, stop_words=None,\n",
      "        strip_accents=None, token_pattern='(?u)\\\\b\\\\w\\\\w+\\\\b',\n",
      "        tokenizer=None, vocabulary=None)\n",
      "Number of Vocabulary: 31615\n"
     ]
    }
   ],
   "source": [
    "from sklearn.metrics import f1_score\n",
    "model_final = build_model(mode='bag_of_words', classifier='support_vector_machine')\n",
    "model_final.fit(X_train, y_train)\n",
    "print('Number of Vocabulary: %d'% (len(model_final.named_steps['vect'].get_feature_names())))"
   ]
  },
  {
   "cell_type": "markdown",
   "metadata": {},
   "source": [
    "## 5/ Using preferred model to make prediction on test set and output result to csv file"
   ]
  },
  {
   "cell_type": "code",
   "execution_count": 93,
   "metadata": {},
   "outputs": [
    {
     "data": {
      "text/plain": [
       "0    16140\n",
       "1     1057\n",
       "Name: label, dtype: int64"
      ]
     },
     "execution_count": 93,
     "metadata": {},
     "output_type": "execute_result"
    }
   ],
   "source": [
    "prediction = model_final.predict(test_final)\n",
    "prediction_int = prediction.astype(np.int)\n",
    "tweets_test['label'] = prediction_int\n",
    "submission = tweets_test[['id', 'label']]\n",
    "submission.to_csv('Duc_20-04-2019.csv', index=False)\n",
    "submission[\"label\"].value_counts()"
   ]
  },
  {
   "cell_type": "markdown",
   "metadata": {},
   "source": [
    "we have 1057 (~6.5%) tweets are predicted as racist or sexist, our model seems to be as expected"
   ]
  },
  {
   "cell_type": "markdown",
   "metadata": {},
   "source": [
    "# THE END. \n",
    "## Thanks for your attention!"
   ]
  },
  {
   "cell_type": "code",
   "execution_count": null,
   "metadata": {},
   "outputs": [],
   "source": []
  }
 ],
 "metadata": {
  "kernelspec": {
   "display_name": "Python 3",
   "language": "python",
   "name": "python3"
  },
  "language_info": {
   "codemirror_mode": {
    "name": "ipython",
    "version": 3
   },
   "file_extension": ".py",
   "mimetype": "text/x-python",
   "name": "python",
   "nbconvert_exporter": "python",
   "pygments_lexer": "ipython3",
   "version": "3.7.1"
  }
 },
 "nbformat": 4,
 "nbformat_minor": 2
}
